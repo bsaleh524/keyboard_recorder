{
 "cells": [
  {
   "cell_type": "code",
   "execution_count": null,
   "metadata": {},
   "outputs": [],
   "source": []
  },
  {
   "cell_type": "markdown",
   "metadata": {},
   "source": [
    "# Exploring Keyboard Data\n",
    "\n",
    "1. Cluster data and visualize clusers\n",
    "  - Use audio data features of some kind\n",
    "\n",
    "2. Visualize those clusters\n",
    "\n",
    "3. Show distribution of different keys for visualization"
   ]
  },
  {
   "cell_type": "markdown",
   "metadata": {},
   "source": [
    "General Information:\n",
    "\n",
    "- Clicky: \n",
    "    - Bumpy\n",
    "    - loud noise\n",
    "    - Blue, green\n",
    "- Tactile:\n",
    "    Bumpy, moderate noise. You feel the bump before it actuates. Usually no sound (halo clears, mx clears)\n",
    "    - Brown, clear\n",
    "- Linear:\n",
    "    - Smooth\n",
    "    - COnsistent, almost no noise\n",
    "    - Red, Yellow, Black\n",
    "\n",
    "Sounds un accounted for:\n",
    "    - Switch itself\n",
    "    - Heavy the switch itself is\n",
    "    - Mechanism of switch\n",
    "    - Keyboard Case material (plastic, aluminum, brass, combo)\n",
    "    - Design (hwo much empty space, some keys different sizes on different keyboards)\n",
    "    - Floating keycap design or not\n",
    "    - Keycaps(ABS, PBT)\n",
    "    - Thickness of keycap.\n",
    "    - shape of keycap\n",
    "    - Lubed or not\n",
    "    - Stabilizers present? Are they modded or not?\n"
   ]
  },
  {
   "cell_type": "markdown",
   "metadata": {},
   "source": [
    "* **mel-spectrograms** as a method of feature extraction for a DL mode\n",
    "\n",
    "* Augmentation:\n",
    "    * Signals were time-shifted randomly by up to 40% in either direction.\n",
    "        - Helps increase amount of data\n",
    "    * Mel-spectrograms generated using:\n",
    "        * 64 mel brands\n",
    "        * Window length of 1024 samples\n",
    "        * hop length of 500 (255 for macbook keystrokes, given their shorter length)\n",
    "        - results in 64x64 images\n",
    "    * After Mel-spectrograms, complete masking:\n",
    "        * take random 10% of both time and frequency axis and setting all values within those ranges to the mean of the spectrogram.\n",
    "            - 'blocking out' a portion of the image.\n",
    "            - Called SpecAugment and was foudn to encourage the model to generalise and avoid overfitting.\n",
    "    "
   ]
  }
 ],
 "metadata": {
  "language_info": {
   "name": "python"
  }
 },
 "nbformat": 4,
 "nbformat_minor": 2
}
